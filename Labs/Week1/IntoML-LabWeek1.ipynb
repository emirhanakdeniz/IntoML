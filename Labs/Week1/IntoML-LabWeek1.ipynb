{
 "cells": [
  {
   "cell_type": "markdown",
   "source": [
    "Intoduction to ML - Lab Week 1"
   ],
   "metadata": {
    "collapsed": false
   },
   "id": "24571ac59bee8388"
  },
  {
   "cell_type": "code",
   "outputs": [
    {
     "name": "stdout",
     "output_type": "stream",
     "text": [
      "10\n",
      "20\n",
      "Pazartesi\n"
     ]
    },
    {
     "data": {
      "text/plain": "str"
     },
     "execution_count": 1,
     "metadata": {},
     "output_type": "execute_result"
    }
   ],
   "source": [
    "a = 10\n",
    "var1 = 20\n",
    "x = \"Pazartesi\"\n",
    "\n",
    "print(a)\n",
    "print(var1)\n",
    "print(x)\n",
    "type(x)"
   ],
   "metadata": {
    "collapsed": false,
    "ExecuteTime": {
     "end_time": "2024-03-23T03:14:59.093369Z",
     "start_time": "2024-03-23T03:14:59.077230Z"
    }
   },
   "id": "bbe0eef7104fd70e",
   "execution_count": 1
  },
  {
   "cell_type": "code",
   "outputs": [
    {
     "name": "stdout",
     "output_type": "stream",
     "text": [
      "[10, 20, 30]\n"
     ]
    }
   ],
   "source": [
    "#Define a list\n",
    "var1 = 10\n",
    "var2 = 20\n",
    "var3 = 30\n",
    "list_int = [10, 20, 30]\n",
    "print(list_int)"
   ],
   "metadata": {
    "collapsed": false,
    "ExecuteTime": {
     "end_time": "2024-03-23T03:23:32.865677Z",
     "start_time": "2024-03-23T03:23:32.859569Z"
    }
   },
   "id": "55819fd72983d12e",
   "execution_count": 2
  },
  {
   "cell_type": "code",
   "outputs": [
    {
     "data": {
      "text/plain": "10"
     },
     "execution_count": 3,
     "metadata": {},
     "output_type": "execute_result"
    }
   ],
   "source": [
    "#First element of the list\n",
    "list_int[0]"
   ],
   "metadata": {
    "collapsed": false,
    "ExecuteTime": {
     "end_time": "2024-03-23T03:24:44.454417Z",
     "start_time": "2024-03-23T03:24:44.446548Z"
    }
   },
   "id": "5446bc508268a5c7",
   "execution_count": 3
  },
  {
   "cell_type": "code",
   "outputs": [
    {
     "data": {
      "text/plain": "30"
     },
     "execution_count": 4,
     "metadata": {},
     "output_type": "execute_result"
    }
   ],
   "source": [
    "#Last element of the list\n",
    "list_int[-1]"
   ],
   "metadata": {
    "collapsed": false,
    "ExecuteTime": {
     "end_time": "2024-03-23T03:24:59.205522Z",
     "start_time": "2024-03-23T03:24:59.199442Z"
    }
   },
   "id": "151a959a269f2af2",
   "execution_count": 4
  },
  {
   "cell_type": "code",
   "outputs": [
    {
     "data": {
      "text/plain": "[10, 20, 30]"
     },
     "execution_count": 5,
     "metadata": {},
     "output_type": "execute_result"
    }
   ],
   "source": [
    "#Variables in the range of list\n",
    "list_int[0:3]"
   ],
   "metadata": {
    "collapsed": false,
    "ExecuteTime": {
     "end_time": "2024-03-23T03:25:23.768771Z",
     "start_time": "2024-03-23T03:25:23.761552Z"
    }
   },
   "id": "64e2ff72fd4a25fc",
   "execution_count": 5
  },
  {
   "cell_type": "code",
   "outputs": [
    {
     "name": "stdout",
     "output_type": "stream",
     "text": [
      "[10, 20, 30, 25]\n"
     ]
    }
   ],
   "source": [
    "#To add variables to the list\n",
    "list_int.append(25)\n",
    "print(list_int)"
   ],
   "metadata": {
    "collapsed": false,
    "ExecuteTime": {
     "end_time": "2024-03-23T03:25:53.656662Z",
     "start_time": "2024-03-23T03:25:53.651736Z"
    }
   },
   "id": "2da69ea3d375f746",
   "execution_count": 6
  },
  {
   "cell_type": "code",
   "outputs": [
    {
     "name": "stdout",
     "output_type": "stream",
     "text": [
      "[10, 20, 30]\n"
     ]
    }
   ],
   "source": [
    "#To delete variables from the list\n",
    "list_int.remove(25)\n",
    "print(list_int)"
   ],
   "metadata": {
    "collapsed": false,
    "ExecuteTime": {
     "end_time": "2024-03-23T03:26:39.583445Z",
     "start_time": "2024-03-23T03:26:39.578364Z"
    }
   },
   "id": "62c55942e6ebfeba",
   "execution_count": 7
  },
  {
   "cell_type": "code",
   "outputs": [
    {
     "name": "stdout",
     "output_type": "stream",
     "text": [
      "[30, 20, 10]\n"
     ]
    }
   ],
   "source": [
    "#To print the list in reverse\n",
    "list_int.reverse()\n",
    "print(list_int)"
   ],
   "metadata": {
    "collapsed": false,
    "ExecuteTime": {
     "end_time": "2024-03-23T03:27:03.256991Z",
     "start_time": "2024-03-23T03:27:03.252008Z"
    }
   },
   "id": "32e8b2a8336b0d6b",
   "execution_count": 8
  },
  {
   "cell_type": "code",
   "outputs": [
    {
     "name": "stdout",
     "output_type": "stream",
     "text": [
      "[10, 20, 30]\n"
     ]
    }
   ],
   "source": [
    "#To sort the list from smallest to largest\n",
    "list_int.sort()\n",
    "print(list_int)"
   ],
   "metadata": {
    "collapsed": false,
    "ExecuteTime": {
     "end_time": "2024-03-23T03:27:25.456068Z",
     "start_time": "2024-03-23T03:27:25.450212Z"
    }
   },
   "id": "b669ca62a010e9ba",
   "execution_count": 9
  },
  {
   "cell_type": "code",
   "outputs": [
    {
     "name": "stdout",
     "output_type": "stream",
     "text": [
      "30\n"
     ]
    }
   ],
   "source": [
    "#To find maximum element with for loop\n",
    "x = 10\n",
    "for each in list_int:\n",
    "    if(each > x):\n",
    "        x = each\n",
    "    else:\n",
    "        continue\n",
    "print(x)"
   ],
   "metadata": {
    "collapsed": false,
    "ExecuteTime": {
     "end_time": "2024-03-23T03:28:19.532957Z",
     "start_time": "2024-03-23T03:28:19.527633Z"
    }
   },
   "id": "8b7acaa132445dfc",
   "execution_count": 10
  },
  {
   "cell_type": "code",
   "outputs": [
    {
     "name": "stdout",
     "output_type": "stream",
     "text": [
      "0\n",
      "1\n",
      "2\n",
      "3\n",
      "4\n"
     ]
    }
   ],
   "source": [
    "#To print from 0 to 5 with while loop (5 is not included)\n",
    "i = 0\n",
    "while (i<5):\n",
    "    print(i)\n",
    "    i = i+1"
   ],
   "metadata": {
    "collapsed": false,
    "ExecuteTime": {
     "end_time": "2024-03-23T03:31:00.902348Z",
     "start_time": "2024-03-23T03:31:00.897507Z"
    }
   },
   "id": "8ac703f1562e26",
   "execution_count": 11
  },
  {
   "cell_type": "code",
   "outputs": [
    {
     "data": {
      "text/plain": "12.56"
     },
     "execution_count": 12,
     "metadata": {},
     "output_type": "execute_result"
    }
   ],
   "source": [
    " #To use function\n",
    "def cember_cevre(r, pi=3.14):\n",
    "    result = 2*pi*r\n",
    "    return result\n",
    "cember_cevre(2)"
   ],
   "metadata": {
    "collapsed": false,
    "ExecuteTime": {
     "end_time": "2024-03-23T03:31:47.328737Z",
     "start_time": "2024-03-23T03:31:47.321385Z"
    }
   },
   "id": "4ef802e2e11170b",
   "execution_count": 12
  },
  {
   "cell_type": "code",
   "outputs": [
    {
     "data": {
      "text/plain": "25"
     },
     "execution_count": 13,
     "metadata": {},
     "output_type": "execute_result"
    }
   ],
   "source": [
    "#Another example for function\n",
    "def calculate(x):\n",
    "    result=x*x\n",
    "    return result\n",
    "calculate(5)"
   ],
   "metadata": {
    "collapsed": false,
    "ExecuteTime": {
     "end_time": "2024-03-23T03:32:05.425286Z",
     "start_time": "2024-03-23T03:32:05.417854Z"
    }
   },
   "id": "9c0cd0937a9c7556",
   "execution_count": 13
  },
  {
   "cell_type": "code",
   "outputs": [
    {
     "name": "stdout",
     "output_type": "stream",
     "text": [
      "25\n"
     ]
    }
   ],
   "source": [
    "result = lambda x:x*x\n",
    "print(result(5))"
   ],
   "metadata": {
    "collapsed": false,
    "ExecuteTime": {
     "end_time": "2024-03-23T03:32:25.735558Z",
     "start_time": "2024-03-23T03:32:25.730672Z"
    }
   },
   "id": "9768ec963c0fd52b",
   "execution_count": 14
  },
  {
   "cell_type": "code",
   "outputs": [
    {
     "name": "stdout",
     "output_type": "stream",
     "text": [
      "{'Betül': 23, 'Beyza': 20, 'İrem': 25}\n"
     ]
    }
   ],
   "source": [
    "#To use dictionary\n",
    "dictionary={\"Betül\":23, \"Beyza\":20, \"İrem\":25} #keys&values\n",
    "print(dictionary)"
   ],
   "metadata": {
    "collapsed": false,
    "ExecuteTime": {
     "end_time": "2024-03-23T03:32:53.589334Z",
     "start_time": "2024-03-23T03:32:53.583860Z"
    }
   },
   "id": "3358e110271f79ec",
   "execution_count": 16
  },
  {
   "cell_type": "code",
   "outputs": [
    {
     "data": {
      "text/plain": "dict"
     },
     "execution_count": 17,
     "metadata": {},
     "output_type": "execute_result"
    }
   ],
   "source": [
    "type(dictionary)"
   ],
   "metadata": {
    "collapsed": false,
    "ExecuteTime": {
     "end_time": "2024-03-23T03:33:03.416738Z",
     "start_time": "2024-03-23T03:33:03.410337Z"
    }
   },
   "id": "902476f962fe2f5b",
   "execution_count": 17
  },
  {
   "cell_type": "code",
   "outputs": [
    {
     "data": {
      "text/plain": "dict_keys(['Betül', 'Beyza', 'İrem'])"
     },
     "execution_count": 18,
     "metadata": {},
     "output_type": "execute_result"
    }
   ],
   "source": [
    "dictionary.keys()"
   ],
   "metadata": {
    "collapsed": false,
    "ExecuteTime": {
     "end_time": "2024-03-23T03:33:09.316295Z",
     "start_time": "2024-03-23T03:33:09.310175Z"
    }
   },
   "id": "9adba49d1578f777",
   "execution_count": 18
  },
  {
   "cell_type": "code",
   "outputs": [
    {
     "data": {
      "text/plain": "dict_values([23, 20, 25])"
     },
     "execution_count": 19,
     "metadata": {},
     "output_type": "execute_result"
    }
   ],
   "source": [
    "dictionary.values()"
   ],
   "metadata": {
    "collapsed": false,
    "ExecuteTime": {
     "end_time": "2024-03-23T03:33:17.293115Z",
     "start_time": "2024-03-23T03:33:17.287173Z"
    }
   },
   "id": "e3794238d5d9b09",
   "execution_count": 19
  },
  {
   "cell_type": "code",
   "outputs": [
    {
     "name": "stdout",
     "output_type": "stream",
     "text": [
      "Yes\n"
     ]
    }
   ],
   "source": [
    "#To find out if the keys is in the dictionary\n",
    "b = dictionary.keys()\n",
    "\n",
    "if \"Betül\" in b:\n",
    "    print(\"Yes\")\n",
    "else:\n",
    "    print(\"No\")"
   ],
   "metadata": {
    "collapsed": false,
    "ExecuteTime": {
     "end_time": "2024-03-23T03:34:21.274754Z",
     "start_time": "2024-03-23T03:34:21.268559Z"
    }
   },
   "id": "c57f0c18da3eb714",
   "execution_count": 20
  },
  {
   "cell_type": "code",
   "outputs": [],
   "source": [],
   "metadata": {
    "collapsed": false
   },
   "id": "f826c96427900e38"
  }
 ],
 "metadata": {
  "kernelspec": {
   "display_name": "Python 3",
   "language": "python",
   "name": "python3"
  },
  "language_info": {
   "codemirror_mode": {
    "name": "ipython",
    "version": 2
   },
   "file_extension": ".py",
   "mimetype": "text/x-python",
   "name": "python",
   "nbconvert_exporter": "python",
   "pygments_lexer": "ipython2",
   "version": "2.7.6"
  }
 },
 "nbformat": 4,
 "nbformat_minor": 5
}
