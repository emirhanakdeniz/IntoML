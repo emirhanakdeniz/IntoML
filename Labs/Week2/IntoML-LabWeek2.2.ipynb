{
 "cells": [
  {
   "cell_type": "code",
   "outputs": [],
   "source": [
    "import numpy as np\n",
    "import pandas as pd"
   ],
   "metadata": {
    "collapsed": false,
    "ExecuteTime": {
     "end_time": "2024-03-24T04:10:37.976815Z",
     "start_time": "2024-03-24T04:10:37.177750Z"
    }
   },
   "id": "f67930d8438015a5",
   "execution_count": 1
  },
  {
   "cell_type": "code",
   "outputs": [
    {
     "data": {
      "text/plain": "(2, 3)"
     },
     "execution_count": 2,
     "metadata": {},
     "output_type": "execute_result"
    }
   ],
   "source": [
    "t = (1, 2, 3, 4)\n",
    "t[1:3]"
   ],
   "metadata": {
    "collapsed": false,
    "ExecuteTime": {
     "end_time": "2024-03-24T04:10:40.165182Z",
     "start_time": "2024-03-24T04:10:40.155567Z"
    }
   },
   "id": "55a432d8097134c7",
   "execution_count": 2
  },
  {
   "cell_type": "code",
   "outputs": [
    {
     "name": "stdout",
     "output_type": "stream",
     "text": [
      "      name   age     note\n",
      "0      Ali  12.0    123.0\n",
      "1     Veli  34.0    456.0\n",
      "2  Zübeyde  56.0     78.0\n",
      "3    Ahmet  78.0  87654.0\n",
      "4    Kübra   NaN      NaN\n",
      "5      Can  12.0     89.0\n"
     ]
    }
   ],
   "source": [
    "dictionary = {\"name\": [\"Ali\", \"Veli\", \"Zübeyde\", \"Ahmet\", \"Kübra\", \"Can\"],\n",
    "              \"age\": [12, 34, 56, 78, None, 12],\n",
    "              \"note\": [123, 456, 78, 87654, None, 89]}\n",
    "dataframe1 = pd.DataFrame(dictionary)\n",
    "print(dataframe1)"
   ],
   "metadata": {
    "collapsed": false,
    "ExecuteTime": {
     "end_time": "2024-03-24T04:12:54.525102Z",
     "start_time": "2024-03-24T04:12:54.505440Z"
    }
   },
   "id": "1c07328bb07bf20c",
   "execution_count": 3
  },
  {
   "cell_type": "code",
   "outputs": [],
   "source": [
    "df = pd.read_csv(r\"C:\\Users\\User\\Desktop\\data.csv\")\n",
    "print(df)"
   ],
   "metadata": {
    "collapsed": false
   },
   "id": "6b273f2159c39544"
  },
  {
   "cell_type": "code",
   "outputs": [
    {
     "name": "stdout",
     "output_type": "stream",
     "text": [
      "      name   age     note\n",
      "0      Ali  12.0    123.0\n",
      "1     Veli  34.0    456.0\n",
      "2  Zübeyde  56.0     78.0\n",
      "3    Ahmet  78.0  87654.0\n",
      "4    Kübra   NaN      NaN\n"
     ]
    }
   ],
   "source": [
    "head = dataframe1.head()\n",
    "print(head)"
   ],
   "metadata": {
    "collapsed": false,
    "ExecuteTime": {
     "end_time": "2024-03-24T04:14:24.825572Z",
     "start_time": "2024-03-24T04:14:24.818437Z"
    }
   },
   "id": "4f9ee0ae1ec1bd5",
   "execution_count": 4
  },
  {
   "cell_type": "code",
   "outputs": [
    {
     "name": "stdout",
     "output_type": "stream",
     "text": [
      "      name   age     note\n",
      "1     Veli  34.0    456.0\n",
      "2  Zübeyde  56.0     78.0\n",
      "3    Ahmet  78.0  87654.0\n",
      "4    Kübra   NaN      NaN\n",
      "5      Can  12.0     89.0\n"
     ]
    }
   ],
   "source": [
    "tail = dataframe1.tail()\n",
    "print(tail)"
   ],
   "metadata": {
    "collapsed": false,
    "ExecuteTime": {
     "end_time": "2024-03-24T04:14:39.147889Z",
     "start_time": "2024-03-24T04:14:39.140686Z"
    }
   },
   "id": "28bab6068a1705d",
   "execution_count": 5
  },
  {
   "cell_type": "code",
   "outputs": [
    {
     "name": "stdout",
     "output_type": "stream",
     "text": [
      "Index(['name', 'age', 'note'], dtype='object')\n"
     ]
    }
   ],
   "source": [
    "print(dataframe1.columns)"
   ],
   "metadata": {
    "collapsed": false,
    "ExecuteTime": {
     "end_time": "2024-03-24T04:14:59.001854Z",
     "start_time": "2024-03-24T04:14:58.996179Z"
    }
   },
   "id": "ab78c570b1d190e",
   "execution_count": 6
  },
  {
   "cell_type": "code",
   "outputs": [
    {
     "name": "stdout",
     "output_type": "stream",
     "text": [
      "<class 'pandas.core.frame.DataFrame'>\n",
      "RangeIndex: 6 entries, 0 to 5\n",
      "Data columns (total 3 columns):\n",
      " #   Column  Non-Null Count  Dtype  \n",
      "---  ------  --------------  -----  \n",
      " 0   name    6 non-null      object \n",
      " 1   age     5 non-null      float64\n",
      " 2   note    5 non-null      float64\n",
      "dtypes: float64(2), object(1)\n",
      "memory usage: 276.0+ bytes\n",
      "None\n"
     ]
    }
   ],
   "source": [
    "print(dataframe1.info())"
   ],
   "metadata": {
    "collapsed": false,
    "ExecuteTime": {
     "end_time": "2024-03-24T04:15:07.288822Z",
     "start_time": "2024-03-24T04:15:07.269115Z"
    }
   },
   "id": "61a69c0f0ce2d6f5",
   "execution_count": 7
  },
  {
   "cell_type": "code",
   "outputs": [
    {
     "name": "stdout",
     "output_type": "stream",
     "text": [
      "name     object\n",
      "age     float64\n",
      "note    float64\n",
      "dtype: object\n"
     ]
    }
   ],
   "source": [
    "print(dataframe1.dtypes)"
   ],
   "metadata": {
    "collapsed": false,
    "ExecuteTime": {
     "end_time": "2024-03-24T04:15:20.752195Z",
     "start_time": "2024-03-24T04:15:20.746943Z"
    }
   },
   "id": "2fab7b9fd6fbff99",
   "execution_count": 8
  },
  {
   "cell_type": "code",
   "outputs": [
    {
     "name": "stdout",
     "output_type": "stream",
     "text": [
      "             age         note\n",
      "count   5.000000      5.00000\n",
      "mean   38.400000  17680.00000\n",
      "std    28.684491  39116.96814\n",
      "min    12.000000     78.00000\n",
      "25%    12.000000     89.00000\n",
      "50%    34.000000    123.00000\n",
      "75%    56.000000    456.00000\n",
      "max    78.000000  87654.00000\n"
     ]
    }
   ],
   "source": [
    "print(dataframe1.describe())"
   ],
   "metadata": {
    "collapsed": false,
    "ExecuteTime": {
     "end_time": "2024-03-24T04:15:33.010250Z",
     "start_time": "2024-03-24T04:15:32.996414Z"
    }
   },
   "id": "ba90308888368abd",
   "execution_count": 9
  },
  {
   "cell_type": "code",
   "outputs": [
    {
     "name": "stdout",
     "output_type": "stream",
     "text": [
      "0        Ali\n",
      "1       Veli\n",
      "2    Zübeyde\n",
      "3      Ahmet\n",
      "4      Kübra\n",
      "5        Can\n",
      "Name: name, dtype: object\n",
      "0    12.0\n",
      "1    34.0\n",
      "2    56.0\n",
      "3    78.0\n",
      "4     NaN\n",
      "5    12.0\n",
      "Name: age, dtype: float64\n",
      "0    12.0\n",
      "1    34.0\n",
      "2    56.0\n",
      "3    78.0\n",
      "Name: age, dtype: float64\n",
      "      name   age     note\n",
      "0      Ali  12.0    123.0\n",
      "1     Veli  34.0    456.0\n",
      "2  Zübeyde  56.0     78.0\n",
      "3    Ahmet  78.0  87654.0\n",
      "      name   age     note  new_future\n",
      "5      Can  12.0     89.0           6\n",
      "4    Kübra   NaN      NaN           5\n",
      "3    Ahmet  78.0  87654.0           4\n",
      "2  Zübeyde  56.0     78.0           3\n",
      "1     Veli  34.0    456.0           2\n",
      "0      Ali  12.0    123.0           1\n"
     ]
    }
   ],
   "source": [
    "print(dataframe1[\"name\"])\n",
    "print(dataframe1.loc[:, \"age\"])\n",
    "dataframe1[\"new_future\"] = [1, 2, 3, 4, 5, 6]\n",
    "print(dataframe1.loc[:3, \"age\"])\n",
    "print(dataframe1.loc[:3, \"name\":\"note\"])\n",
    "print(dataframe1.loc[::-1])"
   ],
   "metadata": {
    "collapsed": false,
    "ExecuteTime": {
     "end_time": "2024-03-24T04:16:55.253792Z",
     "start_time": "2024-03-24T04:16:55.232378Z"
    }
   },
   "id": "e31f1f7cf6f4d33d",
   "execution_count": 10
  },
  {
   "cell_type": "code",
   "outputs": [
    {
     "name": "stdout",
     "output_type": "stream",
     "text": [
      "0    1\n",
      "1    2\n",
      "2    3\n",
      "3    4\n",
      "4    5\n",
      "5    6\n",
      "Name: new_future, dtype: int64\n"
     ]
    }
   ],
   "source": [
    "print(dataframe1.loc[:, \"new_future\"])"
   ],
   "metadata": {
    "collapsed": false,
    "ExecuteTime": {
     "end_time": "2024-03-24T04:18:05.031559Z",
     "start_time": "2024-03-24T04:18:05.025553Z"
    }
   },
   "id": "37aab8fdad4206aa",
   "execution_count": 11
  },
  {
   "cell_type": "code",
   "outputs": [
    {
     "name": "stdout",
     "output_type": "stream",
     "text": [
      "      name     note\n",
      "0      Ali    123.0\n",
      "1     Veli    456.0\n",
      "2  Zübeyde     78.0\n",
      "3    Ahmet  87654.0\n"
     ]
    }
   ],
   "source": [
    "print(dataframe1.loc[:3, [\"name\", \"note\"]])"
   ],
   "metadata": {
    "collapsed": false,
    "ExecuteTime": {
     "end_time": "2024-03-24T04:18:20.534411Z",
     "start_time": "2024-03-24T04:18:20.526457Z"
    }
   },
   "id": "16458650827c4841",
   "execution_count": 12
  },
  {
   "cell_type": "code",
   "outputs": [
    {
     "name": "stdout",
     "output_type": "stream",
     "text": [
      "      name   age\n",
      "0      Ali  12.0\n",
      "1     Veli  34.0\n",
      "2  Zübeyde  56.0\n",
      "3    Ahmet  78.0\n",
      "4    Kübra   NaN\n",
      "5      Can  12.0\n"
     ]
    }
   ],
   "source": [
    "print(dataframe1.loc[:, :\"age\"])"
   ],
   "metadata": {
    "collapsed": false,
    "ExecuteTime": {
     "end_time": "2024-03-24T04:18:32.947862Z",
     "start_time": "2024-03-24T04:18:32.940069Z"
    }
   },
   "id": "bc8318c3860e20e2",
   "execution_count": 13
  },
  {
   "cell_type": "code",
   "outputs": [
    {
     "name": "stdout",
     "output_type": "stream",
     "text": [
      "      note\n",
      "0    123.0\n",
      "1    456.0\n",
      "2     78.0\n",
      "3  87654.0\n",
      "4      NaN\n",
      "5     89.0\n"
     ]
    }
   ],
   "source": [
    "print(dataframe1.iloc[:, [2]])"
   ],
   "metadata": {
    "collapsed": false,
    "ExecuteTime": {
     "end_time": "2024-03-24T04:21:58.729289Z",
     "start_time": "2024-03-24T04:21:58.722041Z"
    }
   },
   "id": "3ef46fe2a5140e08",
   "execution_count": 14
  },
  {
   "cell_type": "code",
   "outputs": [
    {
     "name": "stdout",
     "output_type": "stream",
     "text": [
      "    age   bool\n",
      "0  12.0   True\n",
      "1  34.0   True\n",
      "2  56.0   True\n",
      "3  78.0   True\n",
      "4   NaN  False\n",
      "5  12.0   True\n"
     ]
    }
   ],
   "source": [
    "filtre1 = dataframe1.age>10\n",
    "dataframe1[\"bool\"] = filtre1\n",
    "print(dataframe1.loc[:, [\"age\", \"bool\"]])"
   ],
   "metadata": {
    "collapsed": false,
    "ExecuteTime": {
     "end_time": "2024-03-24T04:22:43.643794Z",
     "start_time": "2024-03-24T04:22:43.635930Z"
    }
   },
   "id": "c5b5b09b23cb1e06",
   "execution_count": 17
  },
  {
   "cell_type": "code",
   "outputs": [
    {
     "data": {
      "text/plain": "pandas.core.series.Series"
     },
     "execution_count": 18,
     "metadata": {},
     "output_type": "execute_result"
    }
   ],
   "source": [
    "type(filtre1)"
   ],
   "metadata": {
    "collapsed": false,
    "ExecuteTime": {
     "end_time": "2024-03-24T04:22:52.202520Z",
     "start_time": "2024-03-24T04:22:52.196278Z"
    }
   },
   "id": "8f5e528cea7445ce",
   "execution_count": 18
  },
  {
   "cell_type": "code",
   "outputs": [
    {
     "name": "stdout",
     "output_type": "stream",
     "text": [
      "      name   age     note  new_future  bool\n",
      "0      Ali  12.0    123.0           1  True\n",
      "1     Veli  34.0    456.0           2  True\n",
      "2  Zübeyde  56.0     78.0           3  True\n",
      "3    Ahmet  78.0  87654.0           4  True\n",
      "5      Can  12.0     89.0           6  True\n"
     ]
    }
   ],
   "source": [
    "filtrelenmis_data = dataframe1[filtre1]\n",
    "print(filtrelenmis_data)"
   ],
   "metadata": {
    "collapsed": false,
    "ExecuteTime": {
     "end_time": "2024-03-24T04:23:19.694418Z",
     "start_time": "2024-03-24T04:23:19.686136Z"
    }
   },
   "id": "3932e03b69c6404e",
   "execution_count": 19
  },
  {
   "cell_type": "code",
   "outputs": [
    {
     "name": "stdout",
     "output_type": "stream",
     "text": [
      "    name   age     note  new_future  bool\n",
      "0    Ali  12.0    123.0           1  True\n",
      "1   Veli  34.0    456.0           2  True\n",
      "3  Ahmet  78.0  87654.0           4  True\n"
     ]
    }
   ],
   "source": [
    "filtre2 = dataframe1.note>100\n",
    "filtrelenmemis_data2 = dataframe1[filtre2&filtre1]\n",
    "print(filtrelenmemis_data2)"
   ],
   "metadata": {
    "collapsed": false,
    "ExecuteTime": {
     "end_time": "2024-03-24T04:24:02.909917Z",
     "start_time": "2024-03-24T04:24:02.901167Z"
    }
   },
   "id": "e6ce20929583f9ea",
   "execution_count": 20
  },
  {
   "cell_type": "code",
   "outputs": [
    {
     "data": {
      "text/plain": "      name   age     note  new_future  bool\n1     Veli  34.0    456.0           2  True\n2  Zübeyde  56.0     78.0           3  True\n3    Ahmet  78.0  87654.0           4  True",
      "text/html": "<div>\n<style scoped>\n    .dataframe tbody tr th:only-of-type {\n        vertical-align: middle;\n    }\n\n    .dataframe tbody tr th {\n        vertical-align: top;\n    }\n\n    .dataframe thead th {\n        text-align: right;\n    }\n</style>\n<table border=\"1\" class=\"dataframe\">\n  <thead>\n    <tr style=\"text-align: right;\">\n      <th></th>\n      <th>name</th>\n      <th>age</th>\n      <th>note</th>\n      <th>new_future</th>\n      <th>bool</th>\n    </tr>\n  </thead>\n  <tbody>\n    <tr>\n      <th>1</th>\n      <td>Veli</td>\n      <td>34.0</td>\n      <td>456.0</td>\n      <td>2</td>\n      <td>True</td>\n    </tr>\n    <tr>\n      <th>2</th>\n      <td>Zübeyde</td>\n      <td>56.0</td>\n      <td>78.0</td>\n      <td>3</td>\n      <td>True</td>\n    </tr>\n    <tr>\n      <th>3</th>\n      <td>Ahmet</td>\n      <td>78.0</td>\n      <td>87654.0</td>\n      <td>4</td>\n      <td>True</td>\n    </tr>\n  </tbody>\n</table>\n</div>"
     },
     "execution_count": 21,
     "metadata": {},
     "output_type": "execute_result"
    }
   ],
   "source": [
    "dataframe1[dataframe1.age>20]"
   ],
   "metadata": {
    "collapsed": false,
    "ExecuteTime": {
     "end_time": "2024-03-24T04:24:13.435105Z",
     "start_time": "2024-03-24T04:24:13.419236Z"
    }
   },
   "id": "4a55cfeb8b76ea51",
   "execution_count": 21
  },
  {
   "cell_type": "code",
   "outputs": [
    {
     "name": "stdout",
     "output_type": "stream",
     "text": [
      "17680.0\n",
      "17680.0\n"
     ]
    }
   ],
   "source": [
    "mean1 = dataframe1.note.mean()\n",
    "print(mean1)\n",
    "mean_np = np.mean(dataframe1.note)\n",
    "print(mean_np)"
   ],
   "metadata": {
    "collapsed": false,
    "ExecuteTime": {
     "end_time": "2024-03-24T04:24:50.533557Z",
     "start_time": "2024-03-24T04:24:50.526978Z"
    }
   },
   "id": "ae17e6e875e174f0",
   "execution_count": 22
  },
  {
   "cell_type": "code",
   "outputs": [
    {
     "data": {
      "text/plain": "      name   age     note  new_future  bool\n0      Ali  12.0    123.0           1  True\n1     Veli  34.0    456.0           2  True\n2  Zübeyde  56.0     78.0           3  True\n3    Ahmet  78.0  87654.0           4  True\n5      Can  12.0     89.0           6  True",
      "text/html": "<div>\n<style scoped>\n    .dataframe tbody tr th:only-of-type {\n        vertical-align: middle;\n    }\n\n    .dataframe tbody tr th {\n        vertical-align: top;\n    }\n\n    .dataframe thead th {\n        text-align: right;\n    }\n</style>\n<table border=\"1\" class=\"dataframe\">\n  <thead>\n    <tr style=\"text-align: right;\">\n      <th></th>\n      <th>name</th>\n      <th>age</th>\n      <th>note</th>\n      <th>new_future</th>\n      <th>bool</th>\n    </tr>\n  </thead>\n  <tbody>\n    <tr>\n      <th>0</th>\n      <td>Ali</td>\n      <td>12.0</td>\n      <td>123.0</td>\n      <td>1</td>\n      <td>True</td>\n    </tr>\n    <tr>\n      <th>1</th>\n      <td>Veli</td>\n      <td>34.0</td>\n      <td>456.0</td>\n      <td>2</td>\n      <td>True</td>\n    </tr>\n    <tr>\n      <th>2</th>\n      <td>Zübeyde</td>\n      <td>56.0</td>\n      <td>78.0</td>\n      <td>3</td>\n      <td>True</td>\n    </tr>\n    <tr>\n      <th>3</th>\n      <td>Ahmet</td>\n      <td>78.0</td>\n      <td>87654.0</td>\n      <td>4</td>\n      <td>True</td>\n    </tr>\n    <tr>\n      <th>5</th>\n      <td>Can</td>\n      <td>12.0</td>\n      <td>89.0</td>\n      <td>6</td>\n      <td>True</td>\n    </tr>\n  </tbody>\n</table>\n</div>"
     },
     "execution_count": 23,
     "metadata": {},
     "output_type": "execute_result"
    }
   ],
   "source": [
    "dataframe1.dropna(inplace=True)\n",
    "dataframe1"
   ],
   "metadata": {
    "collapsed": false,
    "ExecuteTime": {
     "end_time": "2024-03-24T04:25:06.289643Z",
     "start_time": "2024-03-24T04:25:06.278011Z"
    }
   },
   "id": "f134e267d3e12ef3",
   "execution_count": 23
  },
  {
   "cell_type": "code",
   "outputs": [
    {
     "name": "stdout",
     "output_type": "stream",
     "text": [
      "17680.0\n"
     ]
    },
    {
     "data": {
      "text/plain": "      name   age     note  new_future  bool  mena\n0      Ali  12.0    123.0           1  True   bad\n1     Veli  34.0    456.0           2  True   bad\n2  Zübeyde  56.0     78.0           3  True   bad\n3    Ahmet  78.0  87654.0           4  True  good\n5      Can  12.0     89.0           6  True   bad",
      "text/html": "<div>\n<style scoped>\n    .dataframe tbody tr th:only-of-type {\n        vertical-align: middle;\n    }\n\n    .dataframe tbody tr th {\n        vertical-align: top;\n    }\n\n    .dataframe thead th {\n        text-align: right;\n    }\n</style>\n<table border=\"1\" class=\"dataframe\">\n  <thead>\n    <tr style=\"text-align: right;\">\n      <th></th>\n      <th>name</th>\n      <th>age</th>\n      <th>note</th>\n      <th>new_future</th>\n      <th>bool</th>\n      <th>mena</th>\n    </tr>\n  </thead>\n  <tbody>\n    <tr>\n      <th>0</th>\n      <td>Ali</td>\n      <td>12.0</td>\n      <td>123.0</td>\n      <td>1</td>\n      <td>True</td>\n      <td>bad</td>\n    </tr>\n    <tr>\n      <th>1</th>\n      <td>Veli</td>\n      <td>34.0</td>\n      <td>456.0</td>\n      <td>2</td>\n      <td>True</td>\n      <td>bad</td>\n    </tr>\n    <tr>\n      <th>2</th>\n      <td>Zübeyde</td>\n      <td>56.0</td>\n      <td>78.0</td>\n      <td>3</td>\n      <td>True</td>\n      <td>bad</td>\n    </tr>\n    <tr>\n      <th>3</th>\n      <td>Ahmet</td>\n      <td>78.0</td>\n      <td>87654.0</td>\n      <td>4</td>\n      <td>True</td>\n      <td>good</td>\n    </tr>\n    <tr>\n      <th>5</th>\n      <td>Can</td>\n      <td>12.0</td>\n      <td>89.0</td>\n      <td>6</td>\n      <td>True</td>\n      <td>bad</td>\n    </tr>\n  </tbody>\n</table>\n</div>"
     },
     "execution_count": 24,
     "metadata": {},
     "output_type": "execute_result"
    }
   ],
   "source": [
    "print(dataframe1.note.mean())\n",
    "dataframe1[\"mena\"] = [\"bad\" if dataframe1.note.mean()> each else \"good\" for each in dataframe1.note]\n",
    "dataframe1"
   ],
   "metadata": {
    "collapsed": false,
    "ExecuteTime": {
     "end_time": "2024-03-24T04:26:05.940488Z",
     "start_time": "2024-03-24T04:26:05.926070Z"
    }
   },
   "id": "5ec27b227d75d485",
   "execution_count": 24
  },
  {
   "cell_type": "code",
   "outputs": [
    {
     "data": {
      "text/plain": "Index(['NAME', 'AGE', 'NOTE', 'NEW_FUTURE', 'BOOL', 'MENA'], dtype='object')"
     },
     "execution_count": 25,
     "metadata": {},
     "output_type": "execute_result"
    }
   ],
   "source": [
    "dataframe1.columns = [each.upper() for each in dataframe1.columns]\n",
    "dataframe1.columns"
   ],
   "metadata": {
    "collapsed": false,
    "ExecuteTime": {
     "end_time": "2024-03-24T04:26:38.971491Z",
     "start_time": "2024-03-24T04:26:38.964071Z"
    }
   },
   "id": "32966c1fb7860fe8",
   "execution_count": 25
  },
  {
   "cell_type": "code",
   "outputs": [
    {
     "data": {
      "text/plain": "      NAME   AGE     NOTE  BOOL  MENA\n0      Ali  12.0    123.0  True   bad\n1     Veli  34.0    456.0  True   bad\n2  Zübeyde  56.0     78.0  True   bad\n3    Ahmet  78.0  87654.0  True  good\n5      Can  12.0     89.0  True   bad",
      "text/html": "<div>\n<style scoped>\n    .dataframe tbody tr th:only-of-type {\n        vertical-align: middle;\n    }\n\n    .dataframe tbody tr th {\n        vertical-align: top;\n    }\n\n    .dataframe thead th {\n        text-align: right;\n    }\n</style>\n<table border=\"1\" class=\"dataframe\">\n  <thead>\n    <tr style=\"text-align: right;\">\n      <th></th>\n      <th>NAME</th>\n      <th>AGE</th>\n      <th>NOTE</th>\n      <th>BOOL</th>\n      <th>MENA</th>\n    </tr>\n  </thead>\n  <tbody>\n    <tr>\n      <th>0</th>\n      <td>Ali</td>\n      <td>12.0</td>\n      <td>123.0</td>\n      <td>True</td>\n      <td>bad</td>\n    </tr>\n    <tr>\n      <th>1</th>\n      <td>Veli</td>\n      <td>34.0</td>\n      <td>456.0</td>\n      <td>True</td>\n      <td>bad</td>\n    </tr>\n    <tr>\n      <th>2</th>\n      <td>Zübeyde</td>\n      <td>56.0</td>\n      <td>78.0</td>\n      <td>True</td>\n      <td>bad</td>\n    </tr>\n    <tr>\n      <th>3</th>\n      <td>Ahmet</td>\n      <td>78.0</td>\n      <td>87654.0</td>\n      <td>True</td>\n      <td>good</td>\n    </tr>\n    <tr>\n      <th>5</th>\n      <td>Can</td>\n      <td>12.0</td>\n      <td>89.0</td>\n      <td>True</td>\n      <td>bad</td>\n    </tr>\n  </tbody>\n</table>\n</div>"
     },
     "execution_count": 26,
     "metadata": {},
     "output_type": "execute_result"
    }
   ],
   "source": [
    "dataframe1.drop([\"NEW_FUTURE\"], axis=1, inplace=True)\n",
    "dataframe1"
   ],
   "metadata": {
    "collapsed": false,
    "ExecuteTime": {
     "end_time": "2024-03-24T04:27:28.178039Z",
     "start_time": "2024-03-24T04:27:28.165250Z"
    }
   },
   "id": "ca5ec58c9587a2a6",
   "execution_count": 26
  },
  {
   "cell_type": "code",
   "outputs": [
    {
     "data": {
      "text/plain": "      NAME   AGE     NOTE  BOOL  MENA\n0      Ali  12.0    123.0  True   bad\n1     Veli  34.0    456.0  True   bad\n2  Zübeyde  56.0     78.0  True   bad\n3    Ahmet  78.0  87654.0  True  good\n5      Can  12.0     89.0  True   bad\n0      Ali  12.0    123.0  True   bad\n1     Veli  34.0    456.0  True   bad\n2  Zübeyde  56.0     78.0  True   bad\n3    Ahmet  78.0  87654.0  True  good\n5      Can  12.0     89.0  True   bad",
      "text/html": "<div>\n<style scoped>\n    .dataframe tbody tr th:only-of-type {\n        vertical-align: middle;\n    }\n\n    .dataframe tbody tr th {\n        vertical-align: top;\n    }\n\n    .dataframe thead th {\n        text-align: right;\n    }\n</style>\n<table border=\"1\" class=\"dataframe\">\n  <thead>\n    <tr style=\"text-align: right;\">\n      <th></th>\n      <th>NAME</th>\n      <th>AGE</th>\n      <th>NOTE</th>\n      <th>BOOL</th>\n      <th>MENA</th>\n    </tr>\n  </thead>\n  <tbody>\n    <tr>\n      <th>0</th>\n      <td>Ali</td>\n      <td>12.0</td>\n      <td>123.0</td>\n      <td>True</td>\n      <td>bad</td>\n    </tr>\n    <tr>\n      <th>1</th>\n      <td>Veli</td>\n      <td>34.0</td>\n      <td>456.0</td>\n      <td>True</td>\n      <td>bad</td>\n    </tr>\n    <tr>\n      <th>2</th>\n      <td>Zübeyde</td>\n      <td>56.0</td>\n      <td>78.0</td>\n      <td>True</td>\n      <td>bad</td>\n    </tr>\n    <tr>\n      <th>3</th>\n      <td>Ahmet</td>\n      <td>78.0</td>\n      <td>87654.0</td>\n      <td>True</td>\n      <td>good</td>\n    </tr>\n    <tr>\n      <th>5</th>\n      <td>Can</td>\n      <td>12.0</td>\n      <td>89.0</td>\n      <td>True</td>\n      <td>bad</td>\n    </tr>\n    <tr>\n      <th>0</th>\n      <td>Ali</td>\n      <td>12.0</td>\n      <td>123.0</td>\n      <td>True</td>\n      <td>bad</td>\n    </tr>\n    <tr>\n      <th>1</th>\n      <td>Veli</td>\n      <td>34.0</td>\n      <td>456.0</td>\n      <td>True</td>\n      <td>bad</td>\n    </tr>\n    <tr>\n      <th>2</th>\n      <td>Zübeyde</td>\n      <td>56.0</td>\n      <td>78.0</td>\n      <td>True</td>\n      <td>bad</td>\n    </tr>\n    <tr>\n      <th>3</th>\n      <td>Ahmet</td>\n      <td>78.0</td>\n      <td>87654.0</td>\n      <td>True</td>\n      <td>good</td>\n    </tr>\n    <tr>\n      <th>5</th>\n      <td>Can</td>\n      <td>12.0</td>\n      <td>89.0</td>\n      <td>True</td>\n      <td>bad</td>\n    </tr>\n  </tbody>\n</table>\n</div>"
     },
     "execution_count": 28,
     "metadata": {},
     "output_type": "execute_result"
    }
   ],
   "source": [
    "data1 = dataframe1.head()\n",
    "data2 = dataframe1.tail()\n",
    "data_concat = pd.concat([data1, data2], axis=0)\n",
    "data_concat"
   ],
   "metadata": {
    "collapsed": false,
    "ExecuteTime": {
     "end_time": "2024-03-24T04:29:39.715123Z",
     "start_time": "2024-03-24T04:29:39.699916Z"
    }
   },
   "id": "9151b5ddfba19511",
   "execution_count": 28
  },
  {
   "cell_type": "code",
   "outputs": [
    {
     "data": {
      "text/plain": "      NAME   AGE     NOTE  BOOL  MENA     NAME   AGE     NOTE  BOOL  MENA\n0      Ali  12.0    123.0  True   bad      Ali  12.0    123.0  True   bad\n1     Veli  34.0    456.0  True   bad     Veli  34.0    456.0  True   bad\n2  Zübeyde  56.0     78.0  True   bad  Zübeyde  56.0     78.0  True   bad\n3    Ahmet  78.0  87654.0  True  good    Ahmet  78.0  87654.0  True  good\n5      Can  12.0     89.0  True   bad      Can  12.0     89.0  True   bad",
      "text/html": "<div>\n<style scoped>\n    .dataframe tbody tr th:only-of-type {\n        vertical-align: middle;\n    }\n\n    .dataframe tbody tr th {\n        vertical-align: top;\n    }\n\n    .dataframe thead th {\n        text-align: right;\n    }\n</style>\n<table border=\"1\" class=\"dataframe\">\n  <thead>\n    <tr style=\"text-align: right;\">\n      <th></th>\n      <th>NAME</th>\n      <th>AGE</th>\n      <th>NOTE</th>\n      <th>BOOL</th>\n      <th>MENA</th>\n      <th>NAME</th>\n      <th>AGE</th>\n      <th>NOTE</th>\n      <th>BOOL</th>\n      <th>MENA</th>\n    </tr>\n  </thead>\n  <tbody>\n    <tr>\n      <th>0</th>\n      <td>Ali</td>\n      <td>12.0</td>\n      <td>123.0</td>\n      <td>True</td>\n      <td>bad</td>\n      <td>Ali</td>\n      <td>12.0</td>\n      <td>123.0</td>\n      <td>True</td>\n      <td>bad</td>\n    </tr>\n    <tr>\n      <th>1</th>\n      <td>Veli</td>\n      <td>34.0</td>\n      <td>456.0</td>\n      <td>True</td>\n      <td>bad</td>\n      <td>Veli</td>\n      <td>34.0</td>\n      <td>456.0</td>\n      <td>True</td>\n      <td>bad</td>\n    </tr>\n    <tr>\n      <th>2</th>\n      <td>Zübeyde</td>\n      <td>56.0</td>\n      <td>78.0</td>\n      <td>True</td>\n      <td>bad</td>\n      <td>Zübeyde</td>\n      <td>56.0</td>\n      <td>78.0</td>\n      <td>True</td>\n      <td>bad</td>\n    </tr>\n    <tr>\n      <th>3</th>\n      <td>Ahmet</td>\n      <td>78.0</td>\n      <td>87654.0</td>\n      <td>True</td>\n      <td>good</td>\n      <td>Ahmet</td>\n      <td>78.0</td>\n      <td>87654.0</td>\n      <td>True</td>\n      <td>good</td>\n    </tr>\n    <tr>\n      <th>5</th>\n      <td>Can</td>\n      <td>12.0</td>\n      <td>89.0</td>\n      <td>True</td>\n      <td>bad</td>\n      <td>Can</td>\n      <td>12.0</td>\n      <td>89.0</td>\n      <td>True</td>\n      <td>bad</td>\n    </tr>\n  </tbody>\n</table>\n</div>"
     },
     "execution_count": 29,
     "metadata": {},
     "output_type": "execute_result"
    }
   ],
   "source": [
    "data_contact2 = pd.concat([data1, data2], axis=1)\n",
    "data_contact2"
   ],
   "metadata": {
    "collapsed": false,
    "ExecuteTime": {
     "end_time": "2024-03-24T04:30:12.680755Z",
     "start_time": "2024-03-24T04:30:12.664855Z"
    }
   },
   "id": "fd7aff182d579dc1",
   "execution_count": 29
  },
  {
   "cell_type": "code",
   "outputs": [
    {
     "data": {
      "text/plain": "      NAME   AGE     NOTE  BOOL  MENA  new_age\n0      Ali  12.0    123.0  True   bad     24.0\n1     Veli  34.0    456.0  True   bad     68.0\n2  Zübeyde  56.0     78.0  True   bad    112.0\n3    Ahmet  78.0  87654.0  True  good    156.0\n5      Can  12.0     89.0  True   bad     24.0",
      "text/html": "<div>\n<style scoped>\n    .dataframe tbody tr th:only-of-type {\n        vertical-align: middle;\n    }\n\n    .dataframe tbody tr th {\n        vertical-align: top;\n    }\n\n    .dataframe thead th {\n        text-align: right;\n    }\n</style>\n<table border=\"1\" class=\"dataframe\">\n  <thead>\n    <tr style=\"text-align: right;\">\n      <th></th>\n      <th>NAME</th>\n      <th>AGE</th>\n      <th>NOTE</th>\n      <th>BOOL</th>\n      <th>MENA</th>\n      <th>new_age</th>\n    </tr>\n  </thead>\n  <tbody>\n    <tr>\n      <th>0</th>\n      <td>Ali</td>\n      <td>12.0</td>\n      <td>123.0</td>\n      <td>True</td>\n      <td>bad</td>\n      <td>24.0</td>\n    </tr>\n    <tr>\n      <th>1</th>\n      <td>Veli</td>\n      <td>34.0</td>\n      <td>456.0</td>\n      <td>True</td>\n      <td>bad</td>\n      <td>68.0</td>\n    </tr>\n    <tr>\n      <th>2</th>\n      <td>Zübeyde</td>\n      <td>56.0</td>\n      <td>78.0</td>\n      <td>True</td>\n      <td>bad</td>\n      <td>112.0</td>\n    </tr>\n    <tr>\n      <th>3</th>\n      <td>Ahmet</td>\n      <td>78.0</td>\n      <td>87654.0</td>\n      <td>True</td>\n      <td>good</td>\n      <td>156.0</td>\n    </tr>\n    <tr>\n      <th>5</th>\n      <td>Can</td>\n      <td>12.0</td>\n      <td>89.0</td>\n      <td>True</td>\n      <td>bad</td>\n      <td>24.0</td>\n    </tr>\n  </tbody>\n</table>\n</div>"
     },
     "execution_count": 30,
     "metadata": {},
     "output_type": "execute_result"
    }
   ],
   "source": [
    "dataframe1[\"new_age\"] = [each*2 for each in dataframe1.AGE]\n",
    "dataframe1"
   ],
   "metadata": {
    "collapsed": false,
    "ExecuteTime": {
     "end_time": "2024-03-24T04:30:38.033824Z",
     "start_time": "2024-03-24T04:30:38.020198Z"
    }
   },
   "id": "e4c78d508832e9d9",
   "execution_count": 30
  },
  {
   "cell_type": "code",
   "outputs": [],
   "source": [],
   "metadata": {
    "collapsed": false
   },
   "id": "d9559b2729e576b2"
  }
 ],
 "metadata": {
  "kernelspec": {
   "display_name": "Python 3",
   "language": "python",
   "name": "python3"
  },
  "language_info": {
   "codemirror_mode": {
    "name": "ipython",
    "version": 2
   },
   "file_extension": ".py",
   "mimetype": "text/x-python",
   "name": "python",
   "nbconvert_exporter": "python",
   "pygments_lexer": "ipython2",
   "version": "2.7.6"
  }
 },
 "nbformat": 4,
 "nbformat_minor": 5
}
